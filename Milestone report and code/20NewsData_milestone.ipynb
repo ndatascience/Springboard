{
 "cells": [
  {
   "cell_type": "code",
   "execution_count": 2,
   "metadata": {
    "collapsed": false
   },
   "outputs": [],
   "source": [
    "\n",
    "%matplotlib inline\n",
    "import pandas as pd\n",
    "import numpy as np\n",
    "# vectorizer\n",
    "from sklearn.feature_extraction.text import CountVectorizer,HashingVectorizer,TfidfVectorizer,TfidfTransformer\n",
    "# our classifiers\n",
    "from sklearn.naive_bayes import MultinomialNB,BernoulliNB\n",
    "from sklearn.svm import LinearSVC\n",
    "from sklearn.ensemble import RandomForestClassifier\n",
    "from sklearn.svm import SVC\n",
    "from sklearn.linear_model import SGDClassifier,RidgeClassifier\n",
    "from sklearn.linear_model import Perceptron\n",
    "\n",
    "import os,codecs\n",
    "import nltk\n",
    "import string\n",
    "from nltk.corpus import stopwords\n",
    "\n",
    "%matplotlib inline\n",
    "import matplotlib\n",
    "import matplotlib.pyplot as plt\n",
    "\n",
    "from sklearn.pipeline import Pipeline\n",
    "from sklearn.grid_search import GridSearchCV\n",
    "\n",
    "import re"
   ]
  },
  {
   "cell_type": "code",
   "execution_count": 3,
   "metadata": {
    "collapsed": false
   },
   "outputs": [],
   "source": [
    "baseDirectory = \"./\"\n",
    "\n",
    "trainingDir = baseDirectory + \"20news-bydate-train/\"\n",
    "testDir = baseDirectory + \"20news-bydate-test/\"\n",
    "\n",
    "categories = os.listdir(trainingDir)\n",
    "categories = [filename for filename in categories\n",
    "                           if os.path.isdir(trainingDir + filename)]\n",
    "categories = ['comp.graphics','rec.sport.baseball','sci.med','soc.religion.christian']"
   ]
  },
  {
   "cell_type": "code",
   "execution_count": 4,
   "metadata": {
    "collapsed": true
   },
   "outputs": [],
   "source": [
    "def strip_header(text):\n",
    "\n",
    "    before, blankline, after = text.partition('\\n\\n')\n",
    "    return after"
   ]
  },
  {
   "cell_type": "code",
   "execution_count": 64,
   "metadata": {
    "collapsed": true
   },
   "outputs": [],
   "source": [
    "def stop_word(text):\n",
    "    stopwords = nltk.corpus.stopwords.words('english')\n",
    "    stopwords += string.lowercase[:]   \n",
    "    content = [w for w in text if w not in stopwords]\n",
    "    return content"
   ]
  },
  {
   "cell_type": "code",
   "execution_count": 65,
   "metadata": {
    "collapsed": true
   },
   "outputs": [],
   "source": [
    "def make_xy(dir, categories):\n",
    "    X=[]\n",
    "    Y=[]\n",
    "    filesPerCat={}\n",
    "    fileStats =[]\n",
    "    for ind,category in enumerate(categories):\n",
    "        currentdir = dir + category\n",
    "        files = os.listdir(currentdir)\n",
    "        filesPerCat[category] = len(files)\n",
    "        for file in files:\n",
    "            f = codecs.open(currentdir + '/' + file, 'r', 'iso8859-1')\n",
    "            content = f.read().lower()      \n",
    "        \n",
    "            sen = nltk.tokenize.sent_tokenize(content)   \n",
    "            #sen_no_punctuation = re.sub(\"[^a-zA-Z]\",\" \", str(sen))\n",
    "            sen_no_punctuation = str(sen).translate(None,string.punctuation)\n",
    "           \n",
    "            tokens_no_sw = stop_word(nltk.tokenize.word_tokenize(sen_no_punctuation)) \n",
    "                     \n",
    "            X.append(' '.join(tokens_no_sw))\n",
    "            #X.append(content)\n",
    "            Y.append(ind)\n",
    "            \n",
    "            fileStats.append([len(sen),len(tokens_no_sw)])\n",
    "            \n",
    "    return X,Y,filesPerCat,fileStats "
   ]
  },
  {
   "cell_type": "code",
   "execution_count": null,
   "metadata": {
    "collapsed": false
   },
   "outputs": [],
   "source": []
  },
  {
   "cell_type": "code",
   "execution_count": null,
   "metadata": {
    "collapsed": false
   },
   "outputs": [],
   "source": []
  },
  {
   "cell_type": "code",
   "execution_count": 66,
   "metadata": {
    "collapsed": false
   },
   "outputs": [],
   "source": [
    "X_train_data,Y_train_data,trainFilesPerCat,trainFileStats = make_xy(trainingDir, categories)\n",
    "X_test_data,Y_test_data, testFilesPerCat,testFileStats  = make_xy(testDir, categories)\n",
    "\n",
    "vectorizer = TfidfVectorizer(stop_words = 'english',min_df=5)\n",
    "#vectorizer = TfidfVectorizer(max_df=0.5,sublinear_tf=True,stop_words='english',min_df=5)\n",
    "X_train = vectorizer.fit_transform(X_train_data)\n",
    "X_test = vectorizer.transform(X_test_data)\n",
    "\n",
    "Y_train =np.array(Y_train_data)\n",
    "Y_test = np.array(Y_test_data)\n"
   ]
  },
  {
   "cell_type": "code",
   "execution_count": 80,
   "metadata": {
    "collapsed": false
   },
   "outputs": [
    {
     "data": {
      "text/plain": [
       "<2374x8521 sparse matrix of type '<type 'numpy.float64'>'\n",
       "\twith 183053 stored elements in Compressed Sparse Row format>"
      ]
     },
     "execution_count": 80,
     "metadata": {},
     "output_type": "execute_result"
    }
   ],
   "source": [
    "\n",
    "X_train"
   ]
  },
  {
   "cell_type": "code",
   "execution_count": 68,
   "metadata": {
    "collapsed": false
   },
   "outputs": [
    {
     "data": {
      "image/png": "[encoded data removed]",
      "text/plain": [
       "<matplotlib.figure.Figure at 0x12187128>"
      ]
     },
     "metadata": {},
     "output_type": "display_data"
    }
   ],
   "source": [
    "fig,axes = plt.subplots(1,2 ,figsize = (18,4))\n",
    "\n",
    "plt.axes(axes[0])\n",
    "x= range(len(categories))\n",
    "y = trainFilesPerCat.values()\n",
    "plt.bar(x,y,width=0.3,alpha=1)\n",
    "axes[0].set_xticks(x)\n",
    "plt.setp(axes[0].set_xticklabels(categories),rotation=90,fontsize=15)\n",
    "axes[0].set_title('Number of train files per category')\n",
    "\n",
    "plt.axes(axes[1])\n",
    "y = testFilesPerCat.values()\n",
    "plt.bar(x,y,width= 0.3)\n",
    "axes[1].set_xticks(x)\n",
    "plt.setp(axes[1].set_xticklabels(categories),rotation=90,fontsize=15)\n",
    "axes[1].set_title('Number of test files per category')\n",
    "plt.show()"
   ]
  },
  {
   "cell_type": "code",
   "execution_count": null,
   "metadata": {
    "collapsed": false
   },
   "outputs": [],
   "source": []
  },
  {
   "cell_type": "code",
   "execution_count": 69,
   "metadata": {
    "collapsed": false,
    "scrolled": true
   },
   "outputs": [
    {
     "data": {
      "image/png": "[encoded data removed]",
      "text/plain": [
       "<matplotlib.figure.Figure at 0x12190c88>"
      ]
     },
     "metadata": {},
     "output_type": "display_data"
    },
    {
     "name": "stdout",
     "output_type": "stream",
     "text": [
      "Max word count: 5613 Min word count: 9 Median word count: 96.0\n"
     ]
    }
   ],
   "source": [
    "#Histogram of Sentence counts\n",
    "trainFileStats = pd.DataFrame(trainFileStats)  \n",
    "sentencesPerFile = trainFileStats[0]\n",
    "wordsPerFile = trainFileStats[1]\n",
    "fig,axes = plt.subplots(1,2,figsize = (18,4))\n",
    "\n",
    "plt.axes(axes[0])\n",
    "plt.hist(sentencesPerFile,bins=100)\n",
    "axes[0].set_xlim([0,250])\n",
    "axes[0].set_xlabel('Sentence Count')\n",
    "axes[0].set_ylabel('Frequency')\n",
    "axes[0].set_title('Histogram of Sentence Counts')\n",
    "\n",
    "plt.axes(axes[1])\n",
    "plt.hist(wordsPerFile,bins=100)\n",
    "axes[1].set_xlim([0,1500])\n",
    "axes[1].set_xlabel('Word Count')\n",
    "axes[1].set_ylabel('Frequency')\n",
    "axes[1].set_title('Histogram of Word Counts')\n",
    "plt.show()\n",
    "print 'Max word count:',np.max(wordsPerFile),'Min word count:',np.min(wordsPerFile),'Median word count:',np.median(wordsPerFile)\n"
   ]
  },
  {
   "cell_type": "code",
   "execution_count": null,
   "metadata": {
    "collapsed": false
   },
   "outputs": [],
   "source": []
  },
  {
   "cell_type": "code",
   "execution_count": 70,
   "metadata": {
    "collapsed": false
   },
   "outputs": [
    {
     "data": {
      "text/plain": [
       "(73534, 1)"
      ]
     },
     "execution_count": 70,
     "metadata": {},
     "output_type": "execute_result"
    }
   ],
   "source": [
    "tdict={}\n",
    "for i in range(len(X_train_data)):\n",
    "    tokens = X_train_data[i].split()\n",
    "    for t in tokens:\n",
    "       \n",
    "            if t not in tdict:\n",
    "                tdict[t] = 1\n",
    "            else:\n",
    "                tdict[t] = tdict[t] + 1\n",
    "word_count = pd.DataFrame.from_dict(tdict,orient='index')       \n",
    "word_count.columns = ['count']\n",
    "word_count = word_count.sort_values('count',ascending=False)\n",
    "\n",
    "word_count.shape        "
   ]
  },
  {
   "cell_type": "code",
   "execution_count": 71,
   "metadata": {
    "collapsed": false
   },
   "outputs": [
    {
     "data": {
      "image/png": "[encoded data removed]",
      "text/plain": [
       "<matplotlib.figure.Figure at 0x106044e0>"
      ]
     },
     "metadata": {},
     "output_type": "display_data"
    }
   ],
   "source": [
    "#Potting the top 50 word counts\n",
    "\n",
    "x = range(50)\n",
    "y = word_count.head(50)['count']\n",
    "\n",
    "fig,axes = plt.subplots(1,figsize = (18,4))\n",
    "plt.bar(x,y,width= 0.3)\n",
    "axes.set_xticks(x)\n",
    "xtickname = axes.set_xticklabels(word_count.index[0:50])\n",
    "plt.setp(xtickname,rotation = 90,fontsize = 15)\n",
    "plt.show()"
   ]
  },
  {
   "cell_type": "code",
   "execution_count": null,
   "metadata": {
    "collapsed": false
   },
   "outputs": [],
   "source": []
  },
  {
   "cell_type": "code",
   "execution_count": 72,
   "metadata": {
    "collapsed": false
   },
   "outputs": [
    {
     "name": "stdout",
     "output_type": "stream",
     "text": [
      "Training data Accuracy: 98.7784330244 %\n",
      "Test data Accuracy: 94.3670886076 %\n"
     ]
    }
   ],
   "source": [
    "#Becnhmark classifier\n",
    "clf = MultinomialNB().fit(X_train,Y_train)\n",
    "print \"Training data Accuracy:\", (100 * clf.score(X_train, Y_train)),\"%\"\n",
    "print \"Test data Accuracy:\", (100 * clf.score(X_test, Y_test)),\"%\"\n",
    "\n",
    "\n"
   ]
  },
  {
   "cell_type": "code",
   "execution_count": null,
   "metadata": {
    "collapsed": false
   },
   "outputs": [],
   "source": []
  },
  {
   "cell_type": "code",
   "execution_count": null,
   "metadata": {
    "collapsed": false
   },
   "outputs": [],
   "source": []
  },
  {
   "cell_type": "code",
   "execution_count": null,
   "metadata": {
    "collapsed": false
   },
   "outputs": [],
   "source": []
  },
  {
   "cell_type": "code",
   "execution_count": null,
   "metadata": {
    "collapsed": false
   },
   "outputs": [],
   "source": []
  },
  {
   "cell_type": "code",
   "execution_count": null,
   "metadata": {
    "collapsed": false
   },
   "outputs": [],
   "source": []
  },
  {
   "cell_type": "code",
   "execution_count": null,
   "metadata": {
    "collapsed": false
   },
   "outputs": [],
   "source": [
    "\n"
   ]
  },
  {
   "cell_type": "code",
   "execution_count": null,
   "metadata": {
    "collapsed": false
   },
   "outputs": [],
   "source": []
  },
  {
   "cell_type": "code",
   "execution_count": null,
   "metadata": {
    "collapsed": false
   },
   "outputs": [],
   "source": []
  },
  {
   "cell_type": "code",
   "execution_count": null,
   "metadata": {
    "collapsed": false
   },
   "outputs": [],
   "source": []
  },
  {
   "cell_type": "code",
   "execution_count": null,
   "metadata": {
    "collapsed": false
   },
   "outputs": [],
   "source": []
  },
  {
   "cell_type": "code",
   "execution_count": null,
   "metadata": {
    "collapsed": false
   },
   "outputs": [],
   "source": []
  },
  {
   "cell_type": "code",
   "execution_count": null,
   "metadata": {
    "collapsed": false
   },
   "outputs": [],
   "source": []
  },
  {
   "cell_type": "code",
   "execution_count": null,
   "metadata": {
    "collapsed": false
   },
   "outputs": [],
   "source": []
  },
  {
   "cell_type": "code",
   "execution_count": null,
   "metadata": {
    "collapsed": false
   },
   "outputs": [],
   "source": []
  },
  {
   "cell_type": "code",
   "execution_count": null,
   "metadata": {
    "collapsed": false
   },
   "outputs": [],
   "source": []
  },
  {
   "cell_type": "code",
   "execution_count": null,
   "metadata": {
    "collapsed": false
   },
   "outputs": [],
   "source": []
  },
  {
   "cell_type": "code",
   "execution_count": null,
   "metadata": {
    "collapsed": false
   },
   "outputs": [],
   "source": []
  },
  {
   "cell_type": "code",
   "execution_count": null,
   "metadata": {
    "collapsed": false
   },
   "outputs": [],
   "source": []
  },
  {
   "cell_type": "code",
   "execution_count": null,
   "metadata": {
    "collapsed": false
   },
   "outputs": [],
   "source": []
  },
  {
   "cell_type": "code",
   "execution_count": null,
   "metadata": {
    "collapsed": false
   },
   "outputs": [],
   "source": []
  },
  {
   "cell_type": "code",
   "execution_count": null,
   "metadata": {
    "collapsed": true
   },
   "outputs": [],
   "source": []
  }
 ],
 "metadata": {
  "kernelspec": {
   "display_name": "Python 2",
   "language": "python",
   "name": "python2"
  },
  "language_info": {
   "codemirror_mode": {
    "name": "ipython",
    "version": 2
   },
   "file_extension": ".py",
   "mimetype": "text/x-python",
   "name": "python",
   "nbconvert_exporter": "python",
   "pygments_lexer": "ipython2",
   "version": "2.7.11"
  }
 },
 "nbformat": 4,
 "nbformat_minor": 0
}
