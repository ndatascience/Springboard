{
 "cells": [
  {
   "cell_type": "markdown",
   "metadata": {},
   "source": [
    "# XML example and exercise\n",
    "****\n",
    "+ study examples of accessing nodes in XML tree structure  \n",
    "+ work on exercise to be completed and submitted\n",
    "****\n",
    "+ reference: https://docs.python.org/2.7/library/xml.etree.elementtree.html\n",
    "+ data source: http://www.dbis.informatik.uni-goettingen.de/Mondial\n",
    "****"
   ]
  },
  {
   "cell_type": "code",
   "execution_count": 3,
   "metadata": {
    "collapsed": true
   },
   "outputs": [],
   "source": [
    "from xml.etree import ElementTree as ET\n",
    "import pandas as pd"
   ]
  },
  {
   "cell_type": "markdown",
   "metadata": {},
   "source": [
    "## XML example\n",
    "\n",
    "+ for details about tree traversal and iterators, see https://docs.python.org/2.7/library/xml.etree.elementtree.html"
   ]
  },
  {
   "cell_type": "code",
   "execution_count": 4,
   "metadata": {
    "collapsed": true
   },
   "outputs": [],
   "source": [
    "document_tree = ET.parse( './data/mondial_database_less.xml' )"
   ]
  },
  {
   "cell_type": "code",
   "execution_count": 5,
   "metadata": {
    "collapsed": false
   },
   "outputs": [
    {
     "name": "stdout",
     "output_type": "stream",
     "text": [
      "Albania\n",
      "Greece\n",
      "Macedonia\n",
      "Serbia\n",
      "Montenegro\n",
      "Kosovo\n",
      "Andorra\n"
     ]
    }
   ],
   "source": [
    "# print names of all countries\n",
    "for child in document_tree.getroot():\n",
    "    print child.find('name').text"
   ]
  },
  {
   "cell_type": "code",
   "execution_count": 6,
   "metadata": {
    "collapsed": false
   },
   "outputs": [
    {
     "name": "stdout",
     "output_type": "stream",
     "text": [
      "* Albania: Tirana, Shkodër, Durrës, Vlorë, Elbasan, Korçë, \n",
      "* Greece: Komotini, Kavala, Athina, Peiraias, Peristeri, Acharnes, Patra, Kozani, Kerkyra, Ioannina, Thessaloniki, Iraklio, Chania, Ermoupoli, Rhodes, Tripoli, Lamia, Chalkida, Larissa, Volos, Mytilini, Karyes, \n",
      "* Macedonia: Skopje, Kumanovo, \n",
      "* Serbia: Beograd, Novi Sad, Niš, \n",
      "* Montenegro: Podgorica, \n",
      "* Kosovo: Prishtine, \n",
      "* Andorra: Andorra la Vella, \n"
     ]
    }
   ],
   "source": [
    "# print names of all countries and their cities\n",
    "for element in document_tree.iterfind('country'):\n",
    "    print '* ' + element.find('name').text + ':',\n",
    "    capitals_string = ''\n",
    "    for subelement in element.getiterator('city'):\n",
    "        capitals_string += subelement.find('name').text + ', '\n",
    "    print capitals_string"
   ]
  },
  {
   "cell_type": "markdown",
   "metadata": {},
   "source": [
    "****\n",
    "## XML exercise\n",
    "\n",
    "Using data in 'data/mondial_database.xml', the examples above, and refering to https://docs.python.org/2.7/library/xml.etree.elementtree.html, find\n",
    "\n",
    "1. 10 countries with the lowest infant mortality rates\n",
    "2. 10 cities with the largest population\n",
    "3. 10 ethnic groups with the largest overall populations (sum of best/latest estimates over all countries)\n",
    "4. name and country of a) longest river, b) largest lake and c) airport at highest elevation"
   ]
  },
  {
   "cell_type": "code",
   "execution_count": 7,
   "metadata": {
    "collapsed": false
   },
   "outputs": [],
   "source": [
    "document = ET.parse( './data/mondial_database.xml' )"
   ]
  },
  {
   "cell_type": "code",
   "execution_count": 8,
   "metadata": {
    "collapsed": false
   },
   "outputs": [
    {
     "data": {
      "text/plain": [
       "<xml.etree.ElementTree.ElementTree at 0x1061b3ed0>"
      ]
     },
     "execution_count": 8,
     "metadata": {},
     "output_type": "execute_result"
    }
   ],
   "source": [
    "document"
   ]
  },
  {
   "cell_type": "code",
   "execution_count": 23,
   "metadata": {
    "collapsed": false
   },
   "outputs": [
    {
     "name": "stdout",
     "output_type": "stream",
     "text": [
      "13.19\n",
      "4.78\n",
      "7.9\n",
      "6.16\n"
     ]
    },
    {
     "ename": "AttributeError",
     "evalue": "'NoneType' object has no attribute 'text'",
     "output_type": "error",
     "traceback": [
      "\u001b[0;31m---------------------------------------------------------------------------\u001b[0m",
      "\u001b[0;31mAttributeError\u001b[0m                            Traceback (most recent call last)",
      "\u001b[0;32m<ipython-input-23-129bb536d8be>\u001b[0m in \u001b[0;36m<module>\u001b[0;34m()\u001b[0m\n\u001b[1;32m      1\u001b[0m \u001b[0;32mfor\u001b[0m \u001b[0melement\u001b[0m \u001b[0;32min\u001b[0m \u001b[0mdocument\u001b[0m\u001b[0;34m.\u001b[0m\u001b[0miterfind\u001b[0m\u001b[0;34m(\u001b[0m\u001b[0;34m'country'\u001b[0m\u001b[0;34m)\u001b[0m\u001b[0;34m:\u001b[0m\u001b[0;34m\u001b[0m\u001b[0m\n\u001b[0;32m----> 2\u001b[0;31m     \u001b[0;32mprint\u001b[0m \u001b[0mfloat\u001b[0m\u001b[0;34m(\u001b[0m\u001b[0melement\u001b[0m\u001b[0;34m.\u001b[0m\u001b[0mfind\u001b[0m\u001b[0;34m(\u001b[0m\u001b[0;34m'infant_mortality'\u001b[0m\u001b[0;34m)\u001b[0m\u001b[0;34m.\u001b[0m\u001b[0mtext\u001b[0m\u001b[0;34m)\u001b[0m\u001b[0;34m\u001b[0m\u001b[0m\n\u001b[0m",
      "\u001b[0;31mAttributeError\u001b[0m: 'NoneType' object has no attribute 'text'"
     ]
    }
   ],
   "source": [
    "for element in document.iterfind('country'):\n",
    "    print float(element.find('infant_mortality').text)"
   ]
  },
  {
   "cell_type": "code",
   "execution_count": null,
   "metadata": {
    "collapsed": true
   },
   "outputs": [],
   "source": [
    "#Not all countries have infant mortality rate listed.. "
   ]
  },
  {
   "cell_type": "code",
   "execution_count": null,
   "metadata": {
    "collapsed": false
   },
   "outputs": [],
   "source": [
    "mort={}\n",
    "for element in document.iterfind('country'):\n",
    "    for subelem in element.iterfind('infant_mortality'):    \n",
    "        mort[element.find('name').text] = float(subelem.text) #find finds the first child with a particular tag,\n",
    "        "
   ]
  },
  {
   "cell_type": "code",
   "execution_count": null,
   "metadata": {
    "collapsed": false
   },
   "outputs": [],
   "source": [
    "inf_mort1 = []\n",
    "for k,v in mort.items():\n",
    "    inf_mort1.append([v,k])"
   ]
  },
  {
   "cell_type": "code",
   "execution_count": null,
   "metadata": {
    "collapsed": false,
    "scrolled": false
   },
   "outputs": [],
   "source": [
    "inf_mort1.sort()"
   ]
  },
  {
   "cell_type": "code",
   "execution_count": null,
   "metadata": {
    "collapsed": false
   },
   "outputs": [],
   "source": [
    "inf_mort1[0:10]"
   ]
  },
  {
   "cell_type": "code",
   "execution_count": null,
   "metadata": {
    "collapsed": false,
    "scrolled": false
   },
   "outputs": [],
   "source": [
    "#using pandas\n",
    "inf_mort2 = pd.DataFrame.from_dict(mort,orient = 'index')\n",
    "inf_mort2.columns = ['infant mortality']\n",
    "inf_mort2.sort('infant mortality').head(10)\n",
    "\n"
   ]
  },
  {
   "cell_type": "code",
   "execution_count": 10,
   "metadata": {
    "collapsed": false
   },
   "outputs": [],
   "source": [
    "#10 cities with the largest population\n",
    "current_year= 0\n",
    "current_pop = 0\n",
    "city_pop ={}\n",
    "for country in document.iter('country'):\n",
    "    #print country.attrib\n",
    "    for city in country.iter('city'):    \n",
    "        for pop in city.iter('population'):\n",
    "            if( int(pop.attrib['year'])   > current_year): #attrib is dictionary. iterator returns attrib which is a dictionary\n",
    "                current_year = int(pop.attrib['year'])\n",
    "                current_pop = int(pop.text)\n",
    "        city_pop[city.find('name').text] = current_pop\n",
    "        current_year = 0\n",
    "        current_pop = 0\n"
   ]
  },
  {
   "cell_type": "code",
   "execution_count": 11,
   "metadata": {
    "collapsed": false
   },
   "outputs": [],
   "source": [
    "city_pop_dF = pd.DataFrame.from_dict(city_pop, orient ='index')"
   ]
  },
  {
   "cell_type": "code",
   "execution_count": 12,
   "metadata": {
    "collapsed": false
   },
   "outputs": [
    {
     "data": {
      "text/html": [
       "<div style=\"max-height:1000px;max-width:1500px;overflow:auto;\">\n",
       "<table border=\"1\" class=\"dataframe\">\n",
       "  <thead>\n",
       "    <tr style=\"text-align: right;\">\n",
       "      <th></th>\n",
       "      <th>Population</th>\n",
       "    </tr>\n",
       "  </thead>\n",
       "  <tbody>\n",
       "    <tr>\n",
       "      <th>Shanghai</th>\n",
       "      <td> 22315474</td>\n",
       "    </tr>\n",
       "    <tr>\n",
       "      <th>Istanbul</th>\n",
       "      <td> 13710512</td>\n",
       "    </tr>\n",
       "    <tr>\n",
       "      <th>Mumbai</th>\n",
       "      <td> 12442373</td>\n",
       "    </tr>\n",
       "    <tr>\n",
       "      <th>Moskva</th>\n",
       "      <td> 11979529</td>\n",
       "    </tr>\n",
       "    <tr>\n",
       "      <th>Beijing</th>\n",
       "      <td> 11716620</td>\n",
       "    </tr>\n",
       "    <tr>\n",
       "      <th>São Paulo</th>\n",
       "      <td> 11152344</td>\n",
       "    </tr>\n",
       "    <tr>\n",
       "      <th>Tianjin</th>\n",
       "      <td> 11090314</td>\n",
       "    </tr>\n",
       "    <tr>\n",
       "      <th>Guangzhou</th>\n",
       "      <td> 11071424</td>\n",
       "    </tr>\n",
       "    <tr>\n",
       "      <th>Delhi</th>\n",
       "      <td> 11034555</td>\n",
       "    </tr>\n",
       "    <tr>\n",
       "      <th>Shenzhen</th>\n",
       "      <td> 10358381</td>\n",
       "    </tr>\n",
       "  </tbody>\n",
       "</table>\n",
       "</div>"
      ],
      "text/plain": [
       "           Population\n",
       "Shanghai     22315474\n",
       "Istanbul     13710512\n",
       "Mumbai       12442373\n",
       "Moskva       11979529\n",
       "Beijing      11716620\n",
       "São Paulo    11152344\n",
       "Tianjin      11090314\n",
       "Guangzhou    11071424\n",
       "Delhi        11034555\n",
       "Shenzhen     10358381"
      ]
     },
     "execution_count": 12,
     "metadata": {},
     "output_type": "execute_result"
    }
   ],
   "source": [
    "city_pop_dF.columns = ['Population']\n",
    "city_pop_dF.sort('Population',ascending=False).head(10)"
   ]
  },
  {
   "cell_type": "code",
   "execution_count": 1,
   "metadata": {
    "collapsed": true
   },
   "outputs": [],
   "source": [
    "#10 ethnic groups with the largest overall populations (sum of best/latest estimates over all countries)"
   ]
  },
  {
   "cell_type": "code",
   "execution_count": 16,
   "metadata": {
    "collapsed": false
   },
   "outputs": [],
   "source": [
    "#10 cities with the largest population\n",
    "current_year= 0\n",
    "current_pop = 0\n",
    "ethn_pop ={}\n",
    "for country in document.iter('country'):\n",
    "    #print country.attrib\n",
    "    for pop in country.iter('population'):\n",
    "        if( int(pop.attrib['year'])   > current_year): #attrib is dictionary. iterator returns attrib which is a dictionary\n",
    "                current_year = int(pop.attrib['year'])\n",
    "                current_pop = int(pop.text)\n",
    "\n",
    "    for ethn in country.iter('ethnicgroup'):\n",
    "        if ethn.text not in ethn_pop:\n",
    "            ethn_pop[ethn.text] = float(ethn.attrib['percentage'])*current_pop/100\n",
    "        else:\n",
    "            ethn_pop[ethn.text] += float(ethn.attrib['percentage'])*current_pop/100\n",
    "    current_year = 0\n",
    "    current_pop = 0\n",
    "    "
   ]
  },
  {
   "cell_type": "code",
   "execution_count": 20,
   "metadata": {
    "collapsed": false
   },
   "outputs": [
    {
     "data": {
      "text/html": [
       "<div style=\"max-height:1000px;max-width:1500px;overflow:auto;\">\n",
       "<table border=\"1\" class=\"dataframe\">\n",
       "  <thead>\n",
       "    <tr style=\"text-align: right;\">\n",
       "      <th></th>\n",
       "      <th>Population</th>\n",
       "    </tr>\n",
       "  </thead>\n",
       "  <tbody>\n",
       "    <tr>\n",
       "      <th>Han Chinese</th>\n",
       "      <td> 1.245059e+09</td>\n",
       "    </tr>\n",
       "    <tr>\n",
       "      <th>Indo-Aryan</th>\n",
       "      <td> 8.718156e+08</td>\n",
       "    </tr>\n",
       "    <tr>\n",
       "      <th>European</th>\n",
       "      <td> 4.948722e+08</td>\n",
       "    </tr>\n",
       "    <tr>\n",
       "      <th>African</th>\n",
       "      <td> 3.183251e+08</td>\n",
       "    </tr>\n",
       "    <tr>\n",
       "      <th>Dravidian</th>\n",
       "      <td> 3.027137e+08</td>\n",
       "    </tr>\n",
       "    <tr>\n",
       "      <th>Mestizo</th>\n",
       "      <td> 1.577344e+08</td>\n",
       "    </tr>\n",
       "    <tr>\n",
       "      <th>Bengali</th>\n",
       "      <td> 1.467769e+08</td>\n",
       "    </tr>\n",
       "    <tr>\n",
       "      <th>Russian</th>\n",
       "      <td> 1.304840e+08</td>\n",
       "    </tr>\n",
       "    <tr>\n",
       "      <th>Japanese</th>\n",
       "      <td> 1.265342e+08</td>\n",
       "    </tr>\n",
       "    <tr>\n",
       "      <th>Malay</th>\n",
       "      <td> 1.219936e+08</td>\n",
       "    </tr>\n",
       "  </tbody>\n",
       "</table>\n",
       "</div>"
      ],
      "text/plain": [
       "               Population\n",
       "Han Chinese  1.245059e+09\n",
       "Indo-Aryan   8.718156e+08\n",
       "European     4.948722e+08\n",
       "African      3.183251e+08\n",
       "Dravidian    3.027137e+08\n",
       "Mestizo      1.577344e+08\n",
       "Bengali      1.467769e+08\n",
       "Russian      1.304840e+08\n",
       "Japanese     1.265342e+08\n",
       "Malay        1.219936e+08"
      ]
     },
     "execution_count": 20,
     "metadata": {},
     "output_type": "execute_result"
    }
   ],
   "source": [
    "ethn_pop_df = pd.DataFrame.from_dict(ethn_pop, orient = 'index')\n",
    "ethn_pop_df.columns = ['Population']\n",
    "ethn_pop_df.sort('Population',ascending=False).head(10)"
   ]
  },
  {
   "cell_type": "code",
   "execution_count": 21,
   "metadata": {
    "collapsed": true
   },
   "outputs": [],
   "source": [
    "#name and country of a) longest river, b) largest lake and c) airport at highest elevation"
   ]
  },
  {
   "cell_type": "code",
   "execution_count": 35,
   "metadata": {
    "collapsed": false
   },
   "outputs": [
    {
     "name": "stdout",
     "output_type": "stream",
     "text": [
      "230.0\n",
      "206.0\n",
      "604.0\n",
      "322.0\n",
      "93.0\n",
      "460.0\n",
      "470.0\n",
      "520.0\n",
      "320.0\n",
      "241.0\n",
      "145.0\n",
      "300.0\n",
      "550.0\n",
      "107.0\n",
      "203.0\n",
      "121.0\n",
      "162.0\n",
      "346.0\n",
      "925.0\n",
      "1013.0\n",
      "647.0\n",
      "812.0\n",
      "480.0\n",
      "453.0\n",
      "290.0\n",
      "776.0\n",
      "514.0\n",
      "1007.0\n",
      "897.0\n",
      "742.0\n",
      "657.0\n",
      "925.0\n",
      "652.0\n",
      "248.0\n",
      "313.0\n",
      "75.0\n",
      "415.0\n",
      "405.0\n",
      "240.0\n",
      "2845.0\n",
      "45.9\n",
      "43.0\n",
      "147.0\n",
      "264.0\n",
      "295.0\n",
      "168.0\n",
      "35.0\n",
      "517.0\n",
      "150.0\n",
      "225.0\n",
      "254.0\n",
      "358.0\n",
      "250.0\n",
      "403.0\n",
      "749.0\n",
      "453.0\n",
      "1308.0\n",
      "945.0\n",
      "346.0\n",
      "140.0\n",
      "120.0\n",
      "185.0\n",
      "308.0\n",
      "295.0\n",
      "615.0\n",
      "953.0\n",
      "1352.0\n",
      "440.0\n",
      "211.0\n",
      "281.0\n",
      "292.0\n",
      "221.0\n",
      "1091.0\n",
      "440.0\n",
      "1324.0\n",
      "524.0\n",
      "544.0\n",
      "227.0\n",
      "367.0\n",
      "288.0\n",
      "164.0\n",
      "36.3\n",
      "866.0\n",
      "1047.0\n",
      "448.0\n",
      "772.0\n",
      "99.5\n",
      "44.0\n",
      "152.0\n",
      "175.0\n",
      "133.0\n",
      "251.0\n",
      "1364.0\n",
      "193.0\n",
      "1900.0\n",
      "2736.0\n",
      "720.0\n",
      "720.0\n",
      "950.0\n",
      "740.0\n",
      "558.0\n",
      "1809.0\n",
      "74.0\n",
      "224.0\n",
      "78.0\n",
      "1020.0\n",
      "1352.0\n",
      "2201.0\n",
      "775.0\n",
      "1870.0\n",
      "3531.0\n",
      "1480.0\n",
      "1805.0\n",
      "2428.0\n",
      "3650.0\n",
      "4248.0\n",
      "1591.0\n",
      "2450.0\n",
      "688.0\n",
      "4092.0\n",
      "1779.0\n",
      "992.0\n",
      "1636.0\n",
      "4400.0\n",
      "2824.0\n",
      "560.0\n",
      "1620.0\n",
      "2129.0\n",
      "2129.0\n",
      "807.0\n",
      "1415.0\n",
      "1141.0\n",
      "133.0\n",
      "395.0\n",
      "1001.0\n",
      "3260.0\n",
      "4845.0\n",
      "6380.0\n",
      "4350.0\n",
      "2980.0\n",
      "2170.0\n",
      "2511.0\n",
      "2896.0\n",
      "3180.0\n",
      "150.0\n",
      "3185.0\n",
      "1903.0\n",
      "664.0\n",
      "1392.0\n",
      "1197.0\n",
      "58.0\n",
      "200.0\n",
      "120.0\n",
      "0.1\n",
      "560.0\n",
      "124.0\n",
      "177.0\n",
      "655.0\n",
      "493.0\n",
      "3778.0\n",
      "4130.0\n",
      "2334.0\n",
      "1579.0\n",
      "523.0\n",
      "1049.0\n",
      "1953.0\n",
      "225.0\n",
      "2330.0\n",
      "3034.0\n",
      "965.0\n",
      "199.0\n",
      "383.0\n",
      "1538.0\n",
      "2140.0\n",
      "6448.0\n",
      "2253.0\n",
      "1450.0\n",
      "1931.0\n",
      "2640.0\n",
      "2830.0\n",
      "3998.0\n",
      "2549.0\n",
      "1790.0\n",
      "1120.0\n",
      "1430.0\n",
      "1500.0\n",
      "4184.0\n",
      "430.0\n",
      "1400.0\n",
      "1400.0\n"
     ]
    },
    {
     "ename": "AttributeError",
     "evalue": "'NoneType' object has no attribute 'text'",
     "output_type": "error",
     "traceback": [
      "\u001b[0;31m---------------------------------------------------------------------------\u001b[0m",
      "\u001b[0;31mAttributeError\u001b[0m                            Traceback (most recent call last)",
      "\u001b[0;32m<ipython-input-35-eff18219cf8a>\u001b[0m in \u001b[0;36m<module>\u001b[0;34m()\u001b[0m\n\u001b[1;32m      3\u001b[0m \u001b[0methn_pop\u001b[0m \u001b[0;34m=\u001b[0m\u001b[0;34m{\u001b[0m\u001b[0;34m}\u001b[0m\u001b[0;34m\u001b[0m\u001b[0m\n\u001b[1;32m      4\u001b[0m \u001b[0;32mfor\u001b[0m \u001b[0mriv\u001b[0m \u001b[0;32min\u001b[0m \u001b[0mdocument\u001b[0m\u001b[0;34m.\u001b[0m\u001b[0miter\u001b[0m\u001b[0;34m(\u001b[0m\u001b[0;34m'river'\u001b[0m\u001b[0;34m)\u001b[0m\u001b[0;34m:\u001b[0m\u001b[0;34m\u001b[0m\u001b[0m\n\u001b[0;32m----> 5\u001b[0;31m     \u001b[0mrl\u001b[0m \u001b[0;34m=\u001b[0m \u001b[0mfloat\u001b[0m\u001b[0;34m(\u001b[0m\u001b[0mriv\u001b[0m\u001b[0;34m.\u001b[0m\u001b[0mfind\u001b[0m\u001b[0;34m(\u001b[0m\u001b[0;34m'length'\u001b[0m\u001b[0;34m)\u001b[0m\u001b[0;34m.\u001b[0m\u001b[0mtext\u001b[0m\u001b[0;34m)\u001b[0m\u001b[0;34m\u001b[0m\u001b[0m\n\u001b[0m\u001b[1;32m      6\u001b[0m     \u001b[0;32mprint\u001b[0m \u001b[0mrl\u001b[0m\u001b[0;34m\u001b[0m\u001b[0m\n\u001b[1;32m      7\u001b[0m \u001b[0;34m\u001b[0m\u001b[0m\n",
      "\u001b[0;31mAttributeError\u001b[0m: 'NoneType' object has no attribute 'text'"
     ]
    }
   ],
   "source": [
    "current_year= 0\n",
    "river_length = 0\n",
    "ethn_pop ={}\n",
    "for riv in document.iter('river'):\n",
    "    rl = float(riv.find('length').text)\n",
    "    print rl\n",
    "    \n",
    "    \n",
    "    \n",
    "    \n",
    "    "
   ]
  },
  {
   "cell_type": "code",
   "execution_count": 40,
   "metadata": {
    "collapsed": false
   },
   "outputs": [
    {
     "ename": "AttributeError",
     "evalue": "'NoneType' object has no attribute 'text'",
     "output_type": "error",
     "traceback": [
      "\u001b[0;31m---------------------------------------------------------------------------\u001b[0m",
      "\u001b[0;31mAttributeError\u001b[0m                            Traceback (most recent call last)",
      "\u001b[0;32m<ipython-input-40-925394e6888a>\u001b[0m in \u001b[0;36m<module>\u001b[0;34m()\u001b[0m\n\u001b[1;32m      3\u001b[0m \u001b[0methn_pop\u001b[0m \u001b[0;34m=\u001b[0m\u001b[0;34m{\u001b[0m\u001b[0;34m}\u001b[0m\u001b[0;34m\u001b[0m\u001b[0m\n\u001b[1;32m      4\u001b[0m \u001b[0;32mfor\u001b[0m \u001b[0mriv\u001b[0m \u001b[0;32min\u001b[0m \u001b[0mdocument\u001b[0m\u001b[0;34m.\u001b[0m\u001b[0miter\u001b[0m\u001b[0;34m(\u001b[0m\u001b[0;34m'river'\u001b[0m\u001b[0;34m)\u001b[0m\u001b[0;34m:\u001b[0m\u001b[0;34m\u001b[0m\u001b[0m\n\u001b[0;32m----> 5\u001b[0;31m     \u001b[0mrl\u001b[0m \u001b[0;34m=\u001b[0m \u001b[0mfloat\u001b[0m\u001b[0;34m(\u001b[0m\u001b[0mriv\u001b[0m\u001b[0;34m.\u001b[0m\u001b[0mfind\u001b[0m\u001b[0;34m(\u001b[0m\u001b[0;34m'length'\u001b[0m\u001b[0;34m)\u001b[0m\u001b[0;34m.\u001b[0m\u001b[0mtext\u001b[0m\u001b[0;34m)\u001b[0m\u001b[0;34m\u001b[0m\u001b[0m\n\u001b[0m\u001b[1;32m      6\u001b[0m     \u001b[0;32mif\u001b[0m\u001b[0;34m(\u001b[0m\u001b[0mrl\u001b[0m \u001b[0;34m>\u001b[0m \u001b[0mriver_length\u001b[0m\u001b[0;34m)\u001b[0m\u001b[0;34m:\u001b[0m\u001b[0;34m\u001b[0m\u001b[0m\n\u001b[1;32m      7\u001b[0m         \u001b[0mcountry_name\u001b[0m  \u001b[0;34m=\u001b[0m \u001b[0mriv\u001b[0m\u001b[0;34m.\u001b[0m\u001b[0mattrib\u001b[0m\u001b[0;34m[\u001b[0m\u001b[0;34m'country'\u001b[0m\u001b[0;34m]\u001b[0m\u001b[0;34m\u001b[0m\u001b[0m\n",
      "\u001b[0;31mAttributeError\u001b[0m: 'NoneType' object has no attribute 'text'"
     ]
    }
   ],
   "source": [
    "current_year= 0\n",
    "river_length = 0\n",
    "ethn_pop ={}\n",
    "for riv in document.iter('river'):\n",
    "    rl = float(riv.find('length').text)\n",
    "    if(rl > river_length):\n",
    "        country_name  = riv.attrib['country']\n",
    "        river_name = riv.find('name').text\n",
    "    river_length = rl  \n",
    "\n",
    "print country_name    "
   ]
  },
  {
   "cell_type": "code",
   "execution_count": 51,
   "metadata": {
    "collapsed": false
   },
   "outputs": [
    {
     "name": "stdout",
     "output_type": "stream",
     "text": [
      "CO BR PE Amazonas 6448.0\n"
     ]
    }
   ],
   "source": [
    "\n",
    "#Not all the entries have an river length So loop  for the element named 'length'.\n",
    "\n",
    "river_length = 0\n",
    "\n",
    "for river in document.iter('river'):\n",
    "    for length in river.iter('length'):\n",
    "        if(float(length.text) > river_length):\n",
    "            country_name  = river.attrib['country']\n",
    "            river_name    = river.find('name').text\n",
    "            river_length = float(length.text)\n",
    "\n",
    "print country_name,river_name,river_length    "
   ]
  },
  {
   "cell_type": "code",
   "execution_count": 53,
   "metadata": {
    "collapsed": false
   },
   "outputs": [
    {
     "name": "stdout",
     "output_type": "stream",
     "text": [
      "R AZ KAZ IR TM Caspian Sea 386400.0\n"
     ]
    }
   ],
   "source": [
    "lake_area = 0\n",
    "for lake in document.iterfind('lake'):\n",
    "    for area in lake.iterfind('area'):\n",
    "        if float(area.text) > lake_area:\n",
    "            lake_area=float(area.text)\n",
    "            country_name= lake.attrib['country']\n",
    "            lake_name = lake.find('name').text\n",
    "print country_name,lake_name,lake_area               "
   ]
  },
  {
   "cell_type": "code",
   "execution_count": 61,
   "metadata": {
    "collapsed": false
   },
   "outputs": [
    {
     "name": "stdout",
     "output_type": "stream",
     "text": [
      "BOL El Alto Intl 4063.0\n"
     ]
    }
   ],
   "source": [
    "airport_elev = 0\n",
    "for airport in document.iterfind('airport'):\n",
    "    for elev in airport.iterfind('elevation'):\n",
    "        if (elev.text is not None ) and float(elev.text) > airport_elev:\n",
    "            airport_elev=float(elev.text)\n",
    "            country_name= airport.attrib['country']\n",
    "            airport_name = airport.find('name').text\n",
    "            \n",
    "print country_name,airport_name,airport_elev                  "
   ]
  },
  {
   "cell_type": "code",
   "execution_count": null,
   "metadata": {
    "collapsed": true
   },
   "outputs": [],
   "source": []
  }
 ],
 "metadata": {
  "kernelspec": {
   "display_name": "Python 2",
   "language": "python",
   "name": "python2"
  },
  "language_info": {
   "codemirror_mode": {
    "name": "ipython",
    "version": 2
   },
   "file_extension": ".py",
   "mimetype": "text/x-python",
   "name": "python",
   "nbconvert_exporter": "python",
   "pygments_lexer": "ipython2",
   "version": "2.7.11"
  }
 },
 "nbformat": 4,
 "nbformat_minor": 0
}
