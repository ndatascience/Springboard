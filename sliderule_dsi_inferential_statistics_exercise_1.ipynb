{
 "cells": [
  {
   "cell_type": "markdown",
   "metadata": {},
   "source": [
    "## What is the true normal human body temperature? \n",
    "\n",
    "#### Background\n",
    "\n",
    "The mean normal body temperature was held to be 37$^{\\circ}$C or 98.6$^{\\circ}$F for more than 120 years since it was first conceptualized and reported by Carl Wunderlich in a famous 1868 book. In 1992, this value was revised to 36.8$^{\\circ}$C or 98.2$^{\\circ}$F. \n",
    "\n",
    "#### Exercise\n",
    "In this exercise, you will analyze a dataset of human body temperatures and employ the concepts of hypothesis testing, confidence intervals, and statistical significance.\n",
    "\n",
    "Answer the following questions **in this notebook below and submit to your Github account**. \n",
    "\n",
    "1.  Is the distribution of body temperatures normal? \n",
    "    - Remember that this is a condition for the CLT, and hence the statistical tests we are using, to apply. \n",
    "2.  Is the true population mean really 98.6 degrees F?\n",
    "    - Bring out the one sample hypothesis test! In this situation, is it approriate to apply a z-test or a t-test? How will the result be different?\n",
    "3.  At what temperature should we consider someone's temperature to be \"abnormal\"?\n",
    "    - Start by computing the margin of error and confidence interval.\n",
    "4.  Is there a significant difference between males and females in normal temperature?\n",
    "    - Set up and solve for a two sample hypothesis testing.\n",
    "\n",
    "You can include written notes in notebook cells using Markdown: \n",
    "   - In the control panel at the top, choose Cell > Cell Type > Markdown\n",
    "   - Markdown syntax: http://nestacms.com/docs/creating-content/markdown-cheat-sheet\n",
    "\n",
    "#### Resources\n",
    "\n",
    "+ Information and data sources: http://www.amstat.org/publications/jse/datasets/normtemp.txt, http://www.amstat.org/publications/jse/jse_data_archive.htm\n",
    "+ Markdown syntax: http://nestacms.com/docs/creating-content/markdown-cheat-sheet\n",
    "\n",
    "****"
   ]
  },
  {
   "cell_type": "code",
   "execution_count": 37,
   "metadata": {
    "collapsed": true
   },
   "outputs": [],
   "source": [
    "import pandas as pd\n",
    "import numpy as np\n",
    "import scipy.stats as stats"
   ]
  },
  {
   "cell_type": "code",
   "execution_count": 2,
   "metadata": {
    "collapsed": false
   },
   "outputs": [],
   "source": [
    "df = pd.read_csv('data/human_body_temperature.csv')"
   ]
  },
  {
   "cell_type": "code",
   "execution_count": 3,
   "metadata": {
    "collapsed": false
   },
   "outputs": [
    {
     "data": {
      "text/html": [
       "<div>\n",
       "<table border=\"1\" class=\"dataframe\">\n",
       "  <thead>\n",
       "    <tr style=\"text-align: right;\">\n",
       "      <th></th>\n",
       "      <th>temperature</th>\n",
       "      <th>gender</th>\n",
       "      <th>heart_rate</th>\n",
       "    </tr>\n",
       "  </thead>\n",
       "  <tbody>\n",
       "    <tr>\n",
       "      <th>0</th>\n",
       "      <td>99.3</td>\n",
       "      <td>F</td>\n",
       "      <td>68.0</td>\n",
       "    </tr>\n",
       "    <tr>\n",
       "      <th>1</th>\n",
       "      <td>98.4</td>\n",
       "      <td>F</td>\n",
       "      <td>81.0</td>\n",
       "    </tr>\n",
       "    <tr>\n",
       "      <th>2</th>\n",
       "      <td>97.8</td>\n",
       "      <td>M</td>\n",
       "      <td>73.0</td>\n",
       "    </tr>\n",
       "    <tr>\n",
       "      <th>3</th>\n",
       "      <td>99.2</td>\n",
       "      <td>F</td>\n",
       "      <td>66.0</td>\n",
       "    </tr>\n",
       "    <tr>\n",
       "      <th>4</th>\n",
       "      <td>98.0</td>\n",
       "      <td>F</td>\n",
       "      <td>73.0</td>\n",
       "    </tr>\n",
       "  </tbody>\n",
       "</table>\n",
       "</div>"
      ],
      "text/plain": [
       "   temperature gender  heart_rate\n",
       "0         99.3      F        68.0\n",
       "1         98.4      F        81.0\n",
       "2         97.8      M        73.0\n",
       "3         99.2      F        66.0\n",
       "4         98.0      F        73.0"
      ]
     },
     "execution_count": 3,
     "metadata": {},
     "output_type": "execute_result"
    }
   ],
   "source": [
    "df.head()"
   ]
  },
  {
   "cell_type": "code",
   "execution_count": 23,
   "metadata": {
    "collapsed": false
   },
   "outputs": [
    {
     "data": {
      "text/plain": [
       "<matplotlib.text.Text at 0xa123390>"
      ]
     },
     "execution_count": 23,
     "metadata": {},
     "output_type": "execute_result"
    },
    {
     "data": {
      "image/png": "[encoded data removed]",
      "text/plain": [
       "<matplotlib.figure.Figure at 0xadef3c8>"
      ]
     },
     "metadata": {},
     "output_type": "display_data"
    }
   ],
   "source": [
    "%matplotlib inline\n",
    "import matplotlib\n",
    "import matplotlib.pyplot as plt\n",
    "fig,axes = plt.subplots(1,figsize=(10,4))\n",
    "axes.hist(df.temperature)\n",
    "axes.set_xlabel('Body Temp [F]')\n",
    "axes.set_ylabel('Count')\n",
    "\n",
    "#df.temperature.plot(kind='hist')"
   ]
  },
  {
   "cell_type": "markdown",
   "metadata": {},
   "source": [
    "2.Is the true population mean really 98.6 degrees F?"
   ]
  },
  {
   "cell_type": "code",
   "execution_count": 47,
   "metadata": {
    "collapsed": false
   },
   "outputs": [
    {
     "name": "stdout",
     "output_type": "stream",
     "text": [
      "P - value is 2.45107850706e-08\n",
      "p - value < than significanc level of 5% so we reject the null hypothesis. Avg. bod temp is not 98.6F \n"
     ]
    }
   ],
   "source": [
    "#H0 - True population mean is 98.6 degrees \n",
    "#H1 - True population mean is not 98.6 degree\n",
    "#Significance level = .05 or 5%\n",
    "#The temp distribution appears to be normal and also the sample size is greater than 30 we can use z test statictis\n",
    "\n",
    "\n",
    "#Significance level\n",
    "alpha = 0.05\n",
    "\n",
    "\n",
    "#sample stats\n",
    "n = len(df.temperature)\n",
    "mean = df.temperature.mean()\n",
    "sigma = df.temperature.std()\n",
    "\n",
    "#usamp mean of sampling distribution\n",
    "upop = 98.6\n",
    "usamp = 98.6 #For H0 to be true\n",
    "\n",
    "#sigma_samp - standard deviaiton of sampling distribution\n",
    "sigma_samp = sigma/np.sqrt(n)\n",
    "\n",
    "#xCompute z statitics|\n",
    "z_stat = (upop - mean)/sigma_samp\n",
    "z_stat    # z stat come to be arnd 5.45 meaning 5 standard deviation away from mean.. with critcal value of 1.64(5% aplha)\n",
    "          # we are falling into critical region and hence we will reject null hypothesis\n",
    "\n",
    "#Comput the p value\n",
    "p_val = stats.norm.cdf(mean,upop,sigma_samp)\n",
    "p_val\n",
    "\n",
    "if p_val < alpha:\n",
    "    print 'P - value is',p_val\n",
    "    print 'p - value < than significanc level of 5% so we reject the null hypothesis. Avg. bod temp is not 98.6F '\n",
    "else:    \n",
    "    print 'P - value is',p_val\n",
    "    print 'P- value >= greater than significanc level of 5% so we do not reject the null hypothesis. Avg. bod temp is 98.6F '"
   ]
  },
  {
   "cell_type": "markdown",
   "metadata": {},
   "source": [
    "3.At what temperature should we consider someone's temperature to be \"abnormal\"?\n"
   ]
  },
  {
   "cell_type": "code",
   "execution_count": 128,
   "metadata": {
    "collapsed": false
   },
   "outputs": [
    {
     "name": "stdout",
     "output_type": "stream",
     "text": [
      "conf interval is  98.0942286467 to 98.4042328917\n",
      "margin of error = 10.5771353265 %\n"
     ]
    }
   ],
   "source": [
    "#95% conidence interval around mean\n",
    "ci = stats.norm.ppf(.95,mean-98.2,sigma_samp) \n",
    "print 'conf interval is ',mean - ci, 'to',mean+ci\n",
    "\n",
    "z= stats.norm.ppf(0.95)\n",
    "margin_err = z*sigma_samp\n",
    "print 'margin of error =', margin_err *100,'%'"
   ]
  },
  {
   "cell_type": "markdown",
   "metadata": {},
   "source": [
    "4.Is there a significant difference between males and females in normal temperature?"
   ]
  },
  {
   "cell_type": "code",
   "execution_count": 129,
   "metadata": {
    "collapsed": false
   },
   "outputs": [
    {
     "data": {
      "text/html": [
       "<div>\n",
       "<table border=\"1\" class=\"dataframe\">\n",
       "  <thead>\n",
       "    <tr style=\"text-align: right;\">\n",
       "      <th></th>\n",
       "      <th>temperature</th>\n",
       "      <th>gender</th>\n",
       "      <th>heart_rate</th>\n",
       "    </tr>\n",
       "  </thead>\n",
       "  <tbody>\n",
       "    <tr>\n",
       "      <th>0</th>\n",
       "      <td>99.3</td>\n",
       "      <td>F</td>\n",
       "      <td>68.0</td>\n",
       "    </tr>\n",
       "    <tr>\n",
       "      <th>1</th>\n",
       "      <td>98.4</td>\n",
       "      <td>F</td>\n",
       "      <td>81.0</td>\n",
       "    </tr>\n",
       "    <tr>\n",
       "      <th>2</th>\n",
       "      <td>97.8</td>\n",
       "      <td>M</td>\n",
       "      <td>73.0</td>\n",
       "    </tr>\n",
       "    <tr>\n",
       "      <th>3</th>\n",
       "      <td>99.2</td>\n",
       "      <td>F</td>\n",
       "      <td>66.0</td>\n",
       "    </tr>\n",
       "    <tr>\n",
       "      <th>4</th>\n",
       "      <td>98.0</td>\n",
       "      <td>F</td>\n",
       "      <td>73.0</td>\n",
       "    </tr>\n",
       "  </tbody>\n",
       "</table>\n",
       "</div>"
      ],
      "text/plain": [
       "   temperature gender  heart_rate\n",
       "0         99.3      F        68.0\n",
       "1         98.4      F        81.0\n",
       "2         97.8      M        73.0\n",
       "3         99.2      F        66.0\n",
       "4         98.0      F        73.0"
      ]
     },
     "execution_count": 129,
     "metadata": {},
     "output_type": "execute_result"
    }
   ],
   "source": [
    "\n",
    "df.head()"
   ]
  },
  {
   "cell_type": "code",
   "execution_count": 152,
   "metadata": {
    "collapsed": false
   },
   "outputs": [
    {
     "name": "stdout",
     "output_type": "stream",
     "text": [
      "P - value is 0.0222873607607\n",
      "p - value < than significanc level of 5% so we reject the null hypothesis. There is diff between male and female body temp   \n",
      "we reject null hypothesis\n"
     ]
    }
   ],
   "source": [
    "#H0 There is no diff between male and female body temp \n",
    "#H1 There is diff between male and female body temp\n",
    "\n",
    "female = df[df.gender == 'F']\n",
    "male   = df[df.gender=='M']            \n",
    "\n",
    "#female sample stats\n",
    "nf = len(female.temperature)\n",
    "fmean = female.temperature.mean()\n",
    "fsigma = female.temperature.std()\n",
    "\n",
    "#male sample stats\n",
    "nm = len(male.temperature)\n",
    "mmean = male.temperature.mean()\n",
    "msigma = male.temperature.std()\n",
    "\n",
    "#Diff between sample mean\n",
    "mean_diff = fmean- mmean\n",
    "\n",
    "#std of diff between sample dist\n",
    "sigma_diff = np.sqrt((fsigma**2/nf) + (msigma**2/nm))\n",
    "\n",
    "p_val= 2*stats.norm.cdf(0,mean_diff,sigma_diff)\n",
    "\n",
    "p_val\n",
    "\n",
    "if p_val < alpha:\n",
    "    print 'P - value is',p_val\n",
    "    print 'p - value < than significanc level of 5% so we reject the null hypothesis. There is diff between male and female body temp   '\n",
    "else:    \n",
    "    print 'P - value is',p_val\n",
    "    print 'P- value >= greater than significanc level of 5% so we do not reject the null hypothesis.There is no diff between male and female body temp  '\n",
    "\n",
    "    \n",
    "#critical value at significance level of 5% is \n",
    "crit_val = stats.norm.ppf(.95,0,1) #this is fo rnormal dist\n",
    "    \n",
    "#Also can be done this way    \n",
    "if(mean_diff > crit_val*sigma_diff ): #We are in the critical area   \n",
    "    print 'we reject null hypothesis'\n",
    "else:\n",
    "    print ' we accept null hypothesis'"
   ]
  },
  {
   "cell_type": "code",
   "execution_count": 146,
   "metadata": {
    "collapsed": false
   },
   "outputs": [
    {
     "data": {
      "text/plain": [
       "1.6448536269514722"
      ]
     },
     "execution_count": 146,
     "metadata": {},
     "output_type": "execute_result"
    }
   ],
   "source": [
    "stats.norm.ppf(.95,0,1)"
   ]
  },
  {
   "cell_type": "code",
   "execution_count": 159,
   "metadata": {
    "collapsed": false
   },
   "outputs": [
    {
     "data": {
      "text/plain": [
       "5.4548232923640789"
      ]
     },
     "execution_count": 159,
     "metadata": {},
     "output_type": "execute_result"
    }
   ],
   "source": [
    "z_stat"
   ]
  },
  {
   "cell_type": "code",
   "execution_count": null,
   "metadata": {
    "collapsed": false
   },
   "outputs": [],
   "source": []
  },
  {
   "cell_type": "code",
   "execution_count": null,
   "metadata": {
    "collapsed": false
   },
   "outputs": [],
   "source": []
  },
  {
   "cell_type": "code",
   "execution_count": null,
   "metadata": {
    "collapsed": true
   },
   "outputs": [],
   "source": []
  }
 ],
 "metadata": {
  "kernelspec": {
   "display_name": "Python 2",
   "language": "python",
   "name": "python2"
  },
  "language_info": {
   "codemirror_mode": {
    "name": "ipython",
    "version": 2
   },
   "file_extension": ".py",
   "mimetype": "text/x-python",
   "name": "python",
   "nbconvert_exporter": "python",
   "pygments_lexer": "ipython2",
   "version": "2.7.11"
  }
 },
 "nbformat": 4,
 "nbformat_minor": 0
}
